{
 "cells": [
  {
   "cell_type": "markdown",
   "id": "f164ad5c",
   "metadata": {},
   "source": [
    "#Import numpy as np\n",
    "\n",
    "import numpy as np"
   ]
  },
  {
   "cell_type": "raw",
   "id": "99ec832d",
   "metadata": {},
   "source": []
  },
  {
   "cell_type": "code",
   "execution_count": null,
   "id": "6ad4c92f",
   "metadata": {},
   "outputs": [],
   "source": [
    "#create array\n",
    "#matrix\n",
    "#arange, linspace,zeros,ones,eyes\n",
    "#sqrt,unique,random"
   ]
  },
  {
   "cell_type": "markdown",
   "id": "0bc6afc7",
   "metadata": {},
   "source": [
    "# how to import Numpy\n",
    "import numpy as np"
   ]
  },
  {
   "cell_type": "code",
   "execution_count": 3,
   "id": "f74056ab",
   "metadata": {},
   "outputs": [],
   "source": [
    "# create numpy array by converting lists\n",
    "\n",
    "Vec= np.array([1,2,3,4,5,6,7,8,9,10,11])"
   ]
  },
  {
   "cell_type": "code",
   "execution_count": 4,
   "id": "13cbfe39",
   "metadata": {},
   "outputs": [
    {
     "name": "stdout",
     "output_type": "stream",
     "text": [
      "[ 1  2  3  4  5  6  7  8  9 10 11]\n"
     ]
    }
   ],
   "source": [
    "print (Vec)"
   ]
  },
  {
   "cell_type": "code",
   "execution_count": 5,
   "id": "3f98de2a",
   "metadata": {},
   "outputs": [],
   "source": [
    "#create a matrix\n",
    "\n",
    "Matrix= np.array([[1,2,3], [4,5,6],[7,8,9]])"
   ]
  },
  {
   "cell_type": "code",
   "execution_count": 6,
   "id": "5ac0a9e7",
   "metadata": {},
   "outputs": [
    {
     "name": "stdout",
     "output_type": "stream",
     "text": [
      "[[1 2 3]\n",
      " [4 5 6]\n",
      " [7 8 9]]\n"
     ]
    }
   ],
   "source": [
    "print (Matrix)"
   ]
  },
  {
   "cell_type": "code",
   "execution_count": 7,
   "id": "0f1f0cfa",
   "metadata": {},
   "outputs": [
    {
     "name": "stdout",
     "output_type": "stream",
     "text": [
      "[[1 4 7]\n",
      " [2 5 8]\n",
      " [3 6 9]]\n"
     ]
    }
   ],
   "source": [
    "#Transpose of matrix\n",
    "\n",
    "print(Matrix.T)"
   ]
  },
  {
   "cell_type": "code",
   "execution_count": 8,
   "id": "56332bae",
   "metadata": {},
   "outputs": [],
   "source": [
    "x=np.sqrt(99900)"
   ]
  },
  {
   "cell_type": "code",
   "execution_count": 9,
   "id": "8644baf0",
   "metadata": {},
   "outputs": [
    {
     "name": "stdout",
     "output_type": "stream",
     "text": [
      "316.06961258558215\n"
     ]
    }
   ],
   "source": [
    "print(x)"
   ]
  },
  {
   "cell_type": "code",
   "execution_count": 10,
   "id": "d33f1592",
   "metadata": {},
   "outputs": [],
   "source": [
    "#all about arrays\n",
    "\n",
    "vec1=np.arange(0,300)"
   ]
  },
  {
   "cell_type": "code",
   "execution_count": 11,
   "id": "11a7bfce",
   "metadata": {},
   "outputs": [
    {
     "name": "stdout",
     "output_type": "stream",
     "text": [
      "[  0   1   2   3   4   5   6   7   8   9  10  11  12  13  14  15  16  17\n",
      "  18  19  20  21  22  23  24  25  26  27  28  29  30  31  32  33  34  35\n",
      "  36  37  38  39  40  41  42  43  44  45  46  47  48  49  50  51  52  53\n",
      "  54  55  56  57  58  59  60  61  62  63  64  65  66  67  68  69  70  71\n",
      "  72  73  74  75  76  77  78  79  80  81  82  83  84  85  86  87  88  89\n",
      "  90  91  92  93  94  95  96  97  98  99 100 101 102 103 104 105 106 107\n",
      " 108 109 110 111 112 113 114 115 116 117 118 119 120 121 122 123 124 125\n",
      " 126 127 128 129 130 131 132 133 134 135 136 137 138 139 140 141 142 143\n",
      " 144 145 146 147 148 149 150 151 152 153 154 155 156 157 158 159 160 161\n",
      " 162 163 164 165 166 167 168 169 170 171 172 173 174 175 176 177 178 179\n",
      " 180 181 182 183 184 185 186 187 188 189 190 191 192 193 194 195 196 197\n",
      " 198 199 200 201 202 203 204 205 206 207 208 209 210 211 212 213 214 215\n",
      " 216 217 218 219 220 221 222 223 224 225 226 227 228 229 230 231 232 233\n",
      " 234 235 236 237 238 239 240 241 242 243 244 245 246 247 248 249 250 251\n",
      " 252 253 254 255 256 257 258 259 260 261 262 263 264 265 266 267 268 269\n",
      " 270 271 272 273 274 275 276 277 278 279 280 281 282 283 284 285 286 287\n",
      " 288 289 290 291 292 293 294 295 296 297 298 299]\n"
     ]
    }
   ],
   "source": [
    "print(vec1)"
   ]
  },
  {
   "cell_type": "code",
   "execution_count": 12,
   "id": "0bd9786c",
   "metadata": {},
   "outputs": [
    {
     "name": "stdout",
     "output_type": "stream",
     "text": [
      "[ 2 12 22 32 42]\n"
     ]
    }
   ],
   "source": [
    "vec2=np.arange(2,50,10)\n",
    "print(vec2)"
   ]
  },
  {
   "cell_type": "code",
   "execution_count": 13,
   "id": "c61a2fb3",
   "metadata": {},
   "outputs": [
    {
     "name": "stdout",
     "output_type": "stream",
     "text": [
      "[ 0.          2.22222222  4.44444444  6.66666667  8.88888889 11.11111111\n",
      " 13.33333333 15.55555556 17.77777778 20.        ]\n"
     ]
    }
   ],
   "source": [
    "#linspace:- linear spacing where both 1st and last is inclusive\n",
    "\n",
    "vec3=np.linspace(0,20,10)\n",
    "print(vec3)"
   ]
  },
  {
   "cell_type": "code",
   "execution_count": 14,
   "id": "96f5572e",
   "metadata": {},
   "outputs": [
    {
     "name": "stdout",
     "output_type": "stream",
     "text": [
      "[ 1.          3.11111111  5.22222222  7.33333333  9.44444444 11.55555556\n",
      " 13.66666667 15.77777778 17.88888889 20.        ]\n"
     ]
    }
   ],
   "source": [
    "vec4=np.linspace(1,20,10)\n",
    "print(vec4)"
   ]
  },
  {
   "cell_type": "code",
   "execution_count": 15,
   "id": "ecf8b38c",
   "metadata": {},
   "outputs": [
    {
     "data": {
      "text/plain": [
       "array([[ 0.        ,  2.22222222],\n",
       "       [ 4.44444444,  6.66666667],\n",
       "       [ 8.88888889, 11.11111111],\n",
       "       [13.33333333, 15.55555556],\n",
       "       [17.77777778, 20.        ]])"
      ]
     },
     "execution_count": 15,
     "metadata": {},
     "output_type": "execute_result"
    }
   ],
   "source": [
    "#reshape\n",
    "#it into matrix\n",
    "\n",
    "vec3.reshape(5,2)"
   ]
  },
  {
   "cell_type": "code",
   "execution_count": 16,
   "id": "4f07b78a",
   "metadata": {},
   "outputs": [
    {
     "name": "stdout",
     "output_type": "stream",
     "text": [
      "[[0. 0. 0. 0.]\n",
      " [0. 0. 0. 0.]\n",
      " [0. 0. 0. 0.]\n",
      " [0. 0. 0. 0.]]\n"
     ]
    }
   ],
   "source": [
    "#zeros and ones\n",
    "\n",
    "mat2=np.zeros([4,4])\n",
    "print(mat2)"
   ]
  },
  {
   "cell_type": "code",
   "execution_count": 17,
   "id": "dd552b5a",
   "metadata": {},
   "outputs": [
    {
     "name": "stdout",
     "output_type": "stream",
     "text": [
      "[[1. 1. 1. 1. 1.]\n",
      " [1. 1. 1. 1. 1.]\n",
      " [1. 1. 1. 1. 1.]\n",
      " [1. 1. 1. 1. 1.]\n",
      " [1. 1. 1. 1. 1.]]\n"
     ]
    }
   ],
   "source": [
    "mat3=np.ones([5,5])\n",
    "print(mat3)"
   ]
  },
  {
   "cell_type": "code",
   "execution_count": 18,
   "id": "40ac8c81",
   "metadata": {},
   "outputs": [
    {
     "name": "stdout",
     "output_type": "stream",
     "text": [
      "[[0. 0. 0. 0.]]\n"
     ]
    }
   ],
   "source": [
    "mat4=np.zeros([1,4])\n",
    "print(mat4)"
   ]
  },
  {
   "cell_type": "code",
   "execution_count": 19,
   "id": "79409ba1",
   "metadata": {},
   "outputs": [
    {
     "name": "stdout",
     "output_type": "stream",
     "text": [
      "[[1. 0. 0. 0. 0. 0.]\n",
      " [0. 1. 0. 0. 0. 0.]\n",
      " [0. 0. 1. 0. 0. 0.]\n",
      " [0. 0. 0. 1. 0. 0.]\n",
      " [0. 0. 0. 0. 1. 0.]\n",
      " [0. 0. 0. 0. 0. 1.]]\n"
     ]
    }
   ],
   "source": [
    "#identify matrix\n",
    "\n",
    "mat5=np.eye(6)\n",
    "print(mat5)"
   ]
  },
  {
   "cell_type": "code",
   "execution_count": 20,
   "id": "b911fd37",
   "metadata": {},
   "outputs": [
    {
     "name": "stdout",
     "output_type": "stream",
     "text": [
      "[[1. 0. 0. 0. 0. 0.]\n",
      " [0. 1. 0. 0. 0. 0.]\n",
      " [0. 0. 1. 0. 0. 0.]\n",
      " [0. 0. 0. 1. 0. 0.]\n",
      " [0. 0. 0. 0. 1. 0.]\n",
      " [0. 0. 0. 0. 0. 1.]]\n"
     ]
    }
   ],
   "source": [
    "mat8=mat5\n",
    "print(mat8.T)"
   ]
  },
  {
   "cell_type": "code",
   "execution_count": 21,
   "id": "e9b9c4d1",
   "metadata": {},
   "outputs": [
    {
     "name": "stdout",
     "output_type": "stream",
     "text": [
      "[1 2 3 4 5]\n"
     ]
    }
   ],
   "source": [
    "#vectors can be added nd substracted of same size\n",
    "\n",
    "vec1=np.arange(1,6)\n",
    "print(vec1)"
   ]
  },
  {
   "cell_type": "code",
   "execution_count": 22,
   "id": "29739662",
   "metadata": {},
   "outputs": [
    {
     "name": "stdout",
     "output_type": "stream",
     "text": [
      "[5 6 7 8 9]\n"
     ]
    }
   ],
   "source": [
    "vec2=np.arange(5,10)\n",
    "print(vec2)"
   ]
  },
  {
   "cell_type": "code",
   "execution_count": 23,
   "id": "8d846385",
   "metadata": {},
   "outputs": [
    {
     "data": {
      "text/plain": [
       "array([ 6,  8, 10, 12, 14])"
      ]
     },
     "execution_count": 23,
     "metadata": {},
     "output_type": "execute_result"
    }
   ],
   "source": [
    "vec1+vec2"
   ]
  },
  {
   "cell_type": "code",
   "execution_count": 24,
   "id": "8358782e",
   "metadata": {},
   "outputs": [
    {
     "data": {
      "text/plain": [
       "array([-4, -4, -4, -4, -4])"
      ]
     },
     "execution_count": 24,
     "metadata": {},
     "output_type": "execute_result"
    }
   ],
   "source": [
    "vec1-vec2"
   ]
  },
  {
   "cell_type": "code",
   "execution_count": 25,
   "id": "d75bbab4",
   "metadata": {},
   "outputs": [
    {
     "data": {
      "text/plain": [
       "array([ 5, 12, 21, 32, 45])"
      ]
     },
     "execution_count": 25,
     "metadata": {},
     "output_type": "execute_result"
    }
   ],
   "source": [
    "vec1*vec2"
   ]
  },
  {
   "cell_type": "code",
   "execution_count": 26,
   "id": "1551c7a6",
   "metadata": {},
   "outputs": [
    {
     "data": {
      "text/plain": [
       "array([0.2       , 0.33333333, 0.42857143, 0.5       , 0.55555556])"
      ]
     },
     "execution_count": 26,
     "metadata": {},
     "output_type": "execute_result"
    }
   ],
   "source": [
    "vec1/vec2"
   ]
  },
  {
   "cell_type": "code",
   "execution_count": 27,
   "id": "de46da7b",
   "metadata": {},
   "outputs": [
    {
     "data": {
      "text/plain": [
       "array([1.        , 0.5       , 0.33333333, 0.25      , 0.2       ])"
      ]
     },
     "execution_count": 27,
     "metadata": {},
     "output_type": "execute_result"
    }
   ],
   "source": [
    "1/vec1"
   ]
  },
  {
   "cell_type": "code",
   "execution_count": 28,
   "id": "5bab8286",
   "metadata": {},
   "outputs": [
    {
     "name": "stdout",
     "output_type": "stream",
     "text": [
      "[1.         1.41421356 1.73205081 2.         2.23606798]\n"
     ]
    }
   ],
   "source": [
    "print(np.sqrt(vec1))"
   ]
  },
  {
   "cell_type": "code",
   "execution_count": 29,
   "id": "85cd3e43",
   "metadata": {},
   "outputs": [
    {
     "name": "stdout",
     "output_type": "stream",
     "text": [
      "['orange' 'red' '1' 'purple' 'raksha' 'orange' 'rice']\n"
     ]
    }
   ],
   "source": [
    "#unique value in an array\n",
    "\n",
    "vec7=np.array([\"orange\",\"red\",\"1\",\"purple\",\"raksha\",\"orange\",\"rice\"])\n",
    "print(vec7)"
   ]
  },
  {
   "cell_type": "code",
   "execution_count": 30,
   "id": "54aefba3",
   "metadata": {},
   "outputs": [
    {
     "name": "stdout",
     "output_type": "stream",
     "text": [
      "['1' 'orange' 'purple' 'raksha' 'red' 'rice']\n"
     ]
    }
   ],
   "source": [
    "print(np.unique(vec7))"
   ]
  },
  {
   "cell_type": "code",
   "execution_count": 31,
   "id": "6bbabb50",
   "metadata": {},
   "outputs": [
    {
     "name": "stdout",
     "output_type": "stream",
     "text": [
      "[[0.08378261 0.72898885 0.769099   0.68606521 0.20292182 0.7222715\n",
      "  0.18520199 0.05734274 0.58260877 0.96381882]\n",
      " [0.0854407  0.31700474 0.76352071 0.90041833 0.16088808 0.36057194\n",
      "  0.96079087 0.40984058 0.12242029 0.15589774]\n",
      " [0.10851832 0.68138078 0.46638963 0.16066422 0.44617513 0.54351667\n",
      "  0.20288085 0.03191815 0.31762785 0.55164654]\n",
      " [0.43155149 0.06259876 0.538311   0.43749997 0.19898796 0.84651158\n",
      "  0.94560387 0.83556463 0.66655194 0.38507835]\n",
      " [0.84964012 0.54974747 0.71657037 0.56906102 0.41264248 0.79750356\n",
      "  0.34031072 0.22455086 0.65535383 0.69348128]\n",
      " [0.83751821 0.6770664  0.42099613 0.28903749 0.33640834 0.05864173\n",
      "  0.52378848 0.82945436 0.51706927 0.82332448]\n",
      " [0.90581902 0.21996376 0.8755276  0.7115291  0.35976894 0.63856018\n",
      "  0.56192499 0.64500433 0.62481749 0.81631096]\n",
      " [0.35794701 0.68264495 0.0383556  0.03490169 0.33400385 0.02617161\n",
      "  0.64422312 0.56676008 0.61751611 0.40615026]\n",
      " [0.91222926 0.63587881 0.48446914 0.30470833 0.43847579 0.44380127\n",
      "  0.022205   0.64594606 0.06845239 0.35092133]\n",
      " [0.51930258 0.6191408  0.56623303 0.44607763 0.95499014 0.20034878\n",
      "  0.50683921 0.32384061 0.43012276 0.25159662]]\n"
     ]
    }
   ],
   "source": [
    "#genrate random variable\n",
    "\n",
    "#unique random variable\n",
    "rand_mat=np.random.rand(10,10)\n",
    "print(rand_mat)\n"
   ]
  },
  {
   "cell_type": "code",
   "execution_count": 32,
   "id": "61c2d4da",
   "metadata": {},
   "outputs": [
    {
     "name": "stdout",
     "output_type": "stream",
     "text": [
      "0.48393519741143093\n"
     ]
    }
   ],
   "source": [
    "#mean\n",
    "\n",
    "z=np.mean(rand_mat)\n",
    "print(z)"
   ]
  },
  {
   "cell_type": "code",
   "execution_count": 33,
   "id": "73138d26",
   "metadata": {},
   "outputs": [
    {
     "data": {
      "text/plain": [
       "0.9638188194292322"
      ]
     },
     "execution_count": 33,
     "metadata": {},
     "output_type": "execute_result"
    }
   ],
   "source": [
    "#max\n",
    "\n",
    "np.max(rand_mat)\n"
   ]
  },
  {
   "cell_type": "code",
   "execution_count": 34,
   "id": "33f89775",
   "metadata": {},
   "outputs": [
    {
     "data": {
      "text/plain": [
       "0.022204996319024284"
      ]
     },
     "execution_count": 34,
     "metadata": {},
     "output_type": "execute_result"
    }
   ],
   "source": [
    "#min\n",
    "\n",
    "np.min(rand_mat)"
   ]
  },
  {
   "cell_type": "code",
   "execution_count": 35,
   "id": "a2fbc4f6",
   "metadata": {},
   "outputs": [
    {
     "name": "stdout",
     "output_type": "stream",
     "text": [
      "[-0.88468923 -1.24198236  0.14134247 -2.2200909   0.00710487  0.49147207\n",
      "  0.11296505 -0.38448716 -0.90022015  1.78562098  0.29456024  1.33967866\n",
      "  0.37279041 -0.53117349  0.15121402 -1.35824975  0.29427667 -0.77055586\n",
      "  1.08131765  0.29804468]\n"
     ]
    }
   ],
   "source": [
    "#logical entries\n",
    "#randn is for freezing any 20 integers values\n",
    "\n",
    "rand_vec=np.random.randn(20)\n",
    "print (rand_vec)"
   ]
  },
  {
   "cell_type": "code",
   "execution_count": null,
   "id": "8fc44e52",
   "metadata": {},
   "outputs": [],
   "source": []
  }
 ],
 "metadata": {
  "kernelspec": {
   "display_name": "Python 3 (ipykernel)",
   "language": "python",
   "name": "python3"
  },
  "language_info": {
   "codemirror_mode": {
    "name": "ipython",
    "version": 3
   },
   "file_extension": ".py",
   "mimetype": "text/x-python",
   "name": "python",
   "nbconvert_exporter": "python",
   "pygments_lexer": "ipython3",
   "version": "3.9.7"
  }
 },
 "nbformat": 4,
 "nbformat_minor": 5
}
